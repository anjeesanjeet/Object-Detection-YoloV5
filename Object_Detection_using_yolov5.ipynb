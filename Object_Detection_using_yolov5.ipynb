{
  "nbformat": 4,
  "nbformat_minor": 0,
  "metadata": {
    "colab": {
      "name": "Object Detection using yolov5",
      "provenance": [],
      "collapsed_sections": []
    },
    "kernelspec": {
      "name": "python3",
      "display_name": "Python 3"
    },
    "language_info": {
      "name": "python"
    }
  },
  "cells": [
    {
      "cell_type": "code",
      "source": [
        "# Importing Dependencies of Yolov5 from github"
      ],
      "metadata": {
        "id": "cPDO08ylrH1i"
      },
      "execution_count": 20,
      "outputs": []
    },
    {
      "cell_type": "code",
      "source": [
        "!git clone https://github.com/ultralytics/yolov5.git"
      ],
      "metadata": {
        "colab": {
          "base_uri": "https://localhost:8080/"
        },
        "id": "06Az5glLM7e4",
        "outputId": "edc5fb9f-cb6a-4452-e696-3a49938220d5"
      },
      "execution_count": 3,
      "outputs": [
        {
          "output_type": "stream",
          "name": "stdout",
          "text": [
            "Cloning into 'yolov5'...\n",
            "remote: Enumerating objects: 13188, done.\u001b[K\n",
            "remote: Total 13188 (delta 0), reused 0 (delta 0), pack-reused 13188\u001b[K\n",
            "Receiving objects: 100% (13188/13188), 12.53 MiB | 26.13 MiB/s, done.\n",
            "Resolving deltas: 100% (9053/9053), done.\n"
          ]
        }
      ]
    },
    {
      "cell_type": "code",
      "source": [
        "%cd yolov5/"
      ],
      "metadata": {
        "colab": {
          "base_uri": "https://localhost:8080/"
        },
        "id": "6ydHPWH5NAG9",
        "outputId": "0b8636c7-a252-493c-a486-0c5ad3988e33"
      },
      "execution_count": 4,
      "outputs": [
        {
          "output_type": "stream",
          "name": "stdout",
          "text": [
            "/content/yolov5\n"
          ]
        }
      ]
    },
    {
      "cell_type": "code",
      "source": [
        "!pip install -r requirements.txt"
      ],
      "metadata": {
        "colab": {
          "base_uri": "https://localhost:8080/"
        },
        "id": "4V_GIi2xNE3W",
        "outputId": "972a2c57-10b8-49a4-f633-f5a40837e071"
      },
      "execution_count": 5,
      "outputs": [
        {
          "output_type": "stream",
          "name": "stdout",
          "text": [
            "Looking in indexes: https://pypi.org/simple, https://us-python.pkg.dev/colab-wheels/public/simple/\n",
            "Requirement already satisfied: matplotlib>=3.2.2 in /usr/local/lib/python3.7/dist-packages (from -r requirements.txt (line 5)) (3.2.2)\n",
            "Requirement already satisfied: numpy>=1.18.5 in /usr/local/lib/python3.7/dist-packages (from -r requirements.txt (line 6)) (1.21.6)\n",
            "Requirement already satisfied: opencv-python>=4.1.1 in /usr/local/lib/python3.7/dist-packages (from -r requirements.txt (line 7)) (4.6.0.66)\n",
            "Requirement already satisfied: Pillow>=7.1.2 in /usr/local/lib/python3.7/dist-packages (from -r requirements.txt (line 8)) (7.1.2)\n",
            "Collecting PyYAML>=5.3.1\n",
            "  Downloading PyYAML-6.0-cp37-cp37m-manylinux_2_5_x86_64.manylinux1_x86_64.manylinux_2_12_x86_64.manylinux2010_x86_64.whl (596 kB)\n",
            "\u001b[K     |████████████████████████████████| 596 kB 13.6 MB/s \n",
            "\u001b[?25hRequirement already satisfied: requests>=2.23.0 in /usr/local/lib/python3.7/dist-packages (from -r requirements.txt (line 10)) (2.23.0)\n",
            "Requirement already satisfied: scipy>=1.4.1 in /usr/local/lib/python3.7/dist-packages (from -r requirements.txt (line 11)) (1.7.3)\n",
            "Requirement already satisfied: torch>=1.7.0 in /usr/local/lib/python3.7/dist-packages (from -r requirements.txt (line 12)) (1.12.0+cu113)\n",
            "Requirement already satisfied: torchvision>=0.8.1 in /usr/local/lib/python3.7/dist-packages (from -r requirements.txt (line 13)) (0.13.0+cu113)\n",
            "Requirement already satisfied: tqdm>=4.64.0 in /usr/local/lib/python3.7/dist-packages (from -r requirements.txt (line 14)) (4.64.0)\n",
            "Requirement already satisfied: protobuf<=3.20.1 in /usr/local/lib/python3.7/dist-packages (from -r requirements.txt (line 15)) (3.17.3)\n",
            "Requirement already satisfied: tensorboard>=2.4.1 in /usr/local/lib/python3.7/dist-packages (from -r requirements.txt (line 18)) (2.8.0)\n",
            "Requirement already satisfied: pandas>=1.1.4 in /usr/local/lib/python3.7/dist-packages (from -r requirements.txt (line 22)) (1.3.5)\n",
            "Requirement already satisfied: seaborn>=0.11.0 in /usr/local/lib/python3.7/dist-packages (from -r requirements.txt (line 23)) (0.11.2)\n",
            "Requirement already satisfied: ipython in /usr/local/lib/python3.7/dist-packages (from -r requirements.txt (line 37)) (5.5.0)\n",
            "Requirement already satisfied: psutil in /usr/local/lib/python3.7/dist-packages (from -r requirements.txt (line 38)) (5.4.8)\n",
            "Collecting thop>=0.1.1\n",
            "  Downloading thop-0.1.1.post2207130030-py3-none-any.whl (15 kB)\n",
            "Requirement already satisfied: kiwisolver>=1.0.1 in /usr/local/lib/python3.7/dist-packages (from matplotlib>=3.2.2->-r requirements.txt (line 5)) (1.4.4)\n",
            "Requirement already satisfied: cycler>=0.10 in /usr/local/lib/python3.7/dist-packages (from matplotlib>=3.2.2->-r requirements.txt (line 5)) (0.11.0)\n",
            "Requirement already satisfied: pyparsing!=2.0.4,!=2.1.2,!=2.1.6,>=2.0.1 in /usr/local/lib/python3.7/dist-packages (from matplotlib>=3.2.2->-r requirements.txt (line 5)) (3.0.9)\n",
            "Requirement already satisfied: python-dateutil>=2.1 in /usr/local/lib/python3.7/dist-packages (from matplotlib>=3.2.2->-r requirements.txt (line 5)) (2.8.2)\n",
            "Requirement already satisfied: urllib3!=1.25.0,!=1.25.1,<1.26,>=1.21.1 in /usr/local/lib/python3.7/dist-packages (from requests>=2.23.0->-r requirements.txt (line 10)) (1.24.3)\n",
            "Requirement already satisfied: idna<3,>=2.5 in /usr/local/lib/python3.7/dist-packages (from requests>=2.23.0->-r requirements.txt (line 10)) (2.10)\n",
            "Requirement already satisfied: chardet<4,>=3.0.2 in /usr/local/lib/python3.7/dist-packages (from requests>=2.23.0->-r requirements.txt (line 10)) (3.0.4)\n",
            "Requirement already satisfied: certifi>=2017.4.17 in /usr/local/lib/python3.7/dist-packages (from requests>=2.23.0->-r requirements.txt (line 10)) (2022.6.15)\n",
            "Requirement already satisfied: typing-extensions in /usr/local/lib/python3.7/dist-packages (from torch>=1.7.0->-r requirements.txt (line 12)) (4.1.1)\n",
            "Requirement already satisfied: six>=1.9 in /usr/local/lib/python3.7/dist-packages (from protobuf<=3.20.1->-r requirements.txt (line 15)) (1.15.0)\n",
            "Requirement already satisfied: tensorboard-data-server<0.7.0,>=0.6.0 in /usr/local/lib/python3.7/dist-packages (from tensorboard>=2.4.1->-r requirements.txt (line 18)) (0.6.1)\n",
            "Requirement already satisfied: google-auth<3,>=1.6.3 in /usr/local/lib/python3.7/dist-packages (from tensorboard>=2.4.1->-r requirements.txt (line 18)) (1.35.0)\n",
            "Requirement already satisfied: grpcio>=1.24.3 in /usr/local/lib/python3.7/dist-packages (from tensorboard>=2.4.1->-r requirements.txt (line 18)) (1.47.0)\n",
            "Requirement already satisfied: wheel>=0.26 in /usr/local/lib/python3.7/dist-packages (from tensorboard>=2.4.1->-r requirements.txt (line 18)) (0.37.1)\n",
            "Requirement already satisfied: google-auth-oauthlib<0.5,>=0.4.1 in /usr/local/lib/python3.7/dist-packages (from tensorboard>=2.4.1->-r requirements.txt (line 18)) (0.4.6)\n",
            "Requirement already satisfied: absl-py>=0.4 in /usr/local/lib/python3.7/dist-packages (from tensorboard>=2.4.1->-r requirements.txt (line 18)) (1.2.0)\n",
            "Requirement already satisfied: werkzeug>=0.11.15 in /usr/local/lib/python3.7/dist-packages (from tensorboard>=2.4.1->-r requirements.txt (line 18)) (1.0.1)\n",
            "Requirement already satisfied: setuptools>=41.0.0 in /usr/local/lib/python3.7/dist-packages (from tensorboard>=2.4.1->-r requirements.txt (line 18)) (57.4.0)\n",
            "Requirement already satisfied: tensorboard-plugin-wit>=1.6.0 in /usr/local/lib/python3.7/dist-packages (from tensorboard>=2.4.1->-r requirements.txt (line 18)) (1.8.1)\n",
            "Requirement already satisfied: markdown>=2.6.8 in /usr/local/lib/python3.7/dist-packages (from tensorboard>=2.4.1->-r requirements.txt (line 18)) (3.4.1)\n",
            "Requirement already satisfied: pytz>=2017.3 in /usr/local/lib/python3.7/dist-packages (from pandas>=1.1.4->-r requirements.txt (line 22)) (2022.1)\n",
            "Requirement already satisfied: rsa<5,>=3.1.4 in /usr/local/lib/python3.7/dist-packages (from google-auth<3,>=1.6.3->tensorboard>=2.4.1->-r requirements.txt (line 18)) (4.9)\n",
            "Requirement already satisfied: cachetools<5.0,>=2.0.0 in /usr/local/lib/python3.7/dist-packages (from google-auth<3,>=1.6.3->tensorboard>=2.4.1->-r requirements.txt (line 18)) (4.2.4)\n",
            "Requirement already satisfied: pyasn1-modules>=0.2.1 in /usr/local/lib/python3.7/dist-packages (from google-auth<3,>=1.6.3->tensorboard>=2.4.1->-r requirements.txt (line 18)) (0.2.8)\n",
            "Requirement already satisfied: requests-oauthlib>=0.7.0 in /usr/local/lib/python3.7/dist-packages (from google-auth-oauthlib<0.5,>=0.4.1->tensorboard>=2.4.1->-r requirements.txt (line 18)) (1.3.1)\n",
            "Requirement already satisfied: importlib-metadata>=4.4 in /usr/local/lib/python3.7/dist-packages (from markdown>=2.6.8->tensorboard>=2.4.1->-r requirements.txt (line 18)) (4.12.0)\n",
            "Requirement already satisfied: zipp>=0.5 in /usr/local/lib/python3.7/dist-packages (from importlib-metadata>=4.4->markdown>=2.6.8->tensorboard>=2.4.1->-r requirements.txt (line 18)) (3.8.1)\n",
            "Requirement already satisfied: pyasn1<0.5.0,>=0.4.6 in /usr/local/lib/python3.7/dist-packages (from pyasn1-modules>=0.2.1->google-auth<3,>=1.6.3->tensorboard>=2.4.1->-r requirements.txt (line 18)) (0.4.8)\n",
            "Requirement already satisfied: oauthlib>=3.0.0 in /usr/local/lib/python3.7/dist-packages (from requests-oauthlib>=0.7.0->google-auth-oauthlib<0.5,>=0.4.1->tensorboard>=2.4.1->-r requirements.txt (line 18)) (3.2.0)\n",
            "Requirement already satisfied: traitlets>=4.2 in /usr/local/lib/python3.7/dist-packages (from ipython->-r requirements.txt (line 37)) (5.1.1)\n",
            "Requirement already satisfied: simplegeneric>0.8 in /usr/local/lib/python3.7/dist-packages (from ipython->-r requirements.txt (line 37)) (0.8.1)\n",
            "Requirement already satisfied: decorator in /usr/local/lib/python3.7/dist-packages (from ipython->-r requirements.txt (line 37)) (4.4.2)\n",
            "Requirement already satisfied: prompt-toolkit<2.0.0,>=1.0.4 in /usr/local/lib/python3.7/dist-packages (from ipython->-r requirements.txt (line 37)) (1.0.18)\n",
            "Requirement already satisfied: pickleshare in /usr/local/lib/python3.7/dist-packages (from ipython->-r requirements.txt (line 37)) (0.7.5)\n",
            "Requirement already satisfied: pexpect in /usr/local/lib/python3.7/dist-packages (from ipython->-r requirements.txt (line 37)) (4.8.0)\n",
            "Requirement already satisfied: pygments in /usr/local/lib/python3.7/dist-packages (from ipython->-r requirements.txt (line 37)) (2.6.1)\n",
            "Requirement already satisfied: wcwidth in /usr/local/lib/python3.7/dist-packages (from prompt-toolkit<2.0.0,>=1.0.4->ipython->-r requirements.txt (line 37)) (0.2.5)\n",
            "Requirement already satisfied: ptyprocess>=0.5 in /usr/local/lib/python3.7/dist-packages (from pexpect->ipython->-r requirements.txt (line 37)) (0.7.0)\n",
            "Installing collected packages: thop, PyYAML\n",
            "  Attempting uninstall: PyYAML\n",
            "    Found existing installation: PyYAML 3.13\n",
            "    Uninstalling PyYAML-3.13:\n",
            "      Successfully uninstalled PyYAML-3.13\n",
            "Successfully installed PyYAML-6.0 thop-0.1.1.post2207130030\n"
          ]
        }
      ]
    },
    {
      "cell_type": "code",
      "source": [
        "# For the YAML file( classes) we will use cocoo128.YAML file and make changes in it to train the model."
      ],
      "metadata": {
        "id": "NRm0INOGrYmj"
      },
      "execution_count": 21,
      "outputs": []
    },
    {
      "cell_type": "code",
      "source": [
        "# Model Training"
      ],
      "metadata": {
        "id": "pWdnDJWxrv6E"
      },
      "execution_count": 22,
      "outputs": []
    },
    {
      "cell_type": "code",
      "source": [
        "!python train.py --img 640 --batch 8 --epochs 10 --data coco128.yaml --weights yolov5s.pt --nosave --cache "
      ],
      "metadata": {
        "colab": {
          "base_uri": "https://localhost:8080/"
        },
        "id": "kYIdxyBpNIB_",
        "outputId": "348b3614-b308-4c85-e941-64b57bb1cc2a"
      },
      "execution_count": 8,
      "outputs": [
        {
          "output_type": "stream",
          "name": "stdout",
          "text": [
            "\u001b[34m\u001b[1mtrain: \u001b[0mweights=yolov5s.pt, cfg=, data=coco128.yaml, hyp=data/hyps/hyp.scratch-low.yaml, epochs=10, batch_size=8, imgsz=640, rect=False, resume=False, nosave=True, noval=False, noautoanchor=False, noplots=False, evolve=None, bucket=, cache=ram, image_weights=False, device=, multi_scale=False, single_cls=False, optimizer=SGD, sync_bn=False, workers=8, project=runs/train, name=exp, exist_ok=False, quad=False, cos_lr=False, label_smoothing=0.0, patience=100, freeze=[0], save_period=-1, seed=0, local_rank=-1, entity=None, upload_dataset=False, bbox_interval=-1, artifact_alias=latest\n",
            "\u001b[34m\u001b[1mgithub: \u001b[0mskipping check (Docker image), for updates see https://github.com/ultralytics/yolov5\n",
            "YOLOv5 🚀 v6.1-329-g52d3a9a Python-3.7.13 torch-1.12.0+cu113 CPU\n",
            "\n",
            "\u001b[34m\u001b[1mhyperparameters: \u001b[0mlr0=0.01, lrf=0.01, momentum=0.937, weight_decay=0.0005, warmup_epochs=3.0, warmup_momentum=0.8, warmup_bias_lr=0.1, box=0.05, cls=0.5, cls_pw=1.0, obj=1.0, obj_pw=1.0, iou_t=0.2, anchor_t=4.0, fl_gamma=0.0, hsv_h=0.015, hsv_s=0.7, hsv_v=0.4, degrees=0.0, translate=0.1, scale=0.5, shear=0.0, perspective=0.0, flipud=0.0, fliplr=0.5, mosaic=1.0, mixup=0.0, copy_paste=0.0\n",
            "\u001b[34m\u001b[1mWeights & Biases: \u001b[0mrun 'pip install wandb' to automatically track and visualize YOLOv5 🚀 runs (RECOMMENDED)\n",
            "\u001b[34m\u001b[1mTensorBoard: \u001b[0mStart with 'tensorboard --logdir runs/train', view at http://localhost:6006/\n",
            "Overriding model.yaml nc=80 with nc=2\n",
            "\n",
            "                 from  n    params  module                                  arguments                     \n",
            "  0                -1  1      3520  models.common.Conv                      [3, 32, 6, 2, 2]              \n",
            "  1                -1  1     18560  models.common.Conv                      [32, 64, 3, 2]                \n",
            "  2                -1  1     18816  models.common.C3                        [64, 64, 1]                   \n",
            "  3                -1  1     73984  models.common.Conv                      [64, 128, 3, 2]               \n",
            "  4                -1  2    115712  models.common.C3                        [128, 128, 2]                 \n",
            "  5                -1  1    295424  models.common.Conv                      [128, 256, 3, 2]              \n",
            "  6                -1  3    625152  models.common.C3                        [256, 256, 3]                 \n",
            "  7                -1  1   1180672  models.common.Conv                      [256, 512, 3, 2]              \n",
            "  8                -1  1   1182720  models.common.C3                        [512, 512, 1]                 \n",
            "  9                -1  1    656896  models.common.SPPF                      [512, 512, 5]                 \n",
            " 10                -1  1    131584  models.common.Conv                      [512, 256, 1, 1]              \n",
            " 11                -1  1         0  torch.nn.modules.upsampling.Upsample    [None, 2, 'nearest']          \n",
            " 12           [-1, 6]  1         0  models.common.Concat                    [1]                           \n",
            " 13                -1  1    361984  models.common.C3                        [512, 256, 1, False]          \n",
            " 14                -1  1     33024  models.common.Conv                      [256, 128, 1, 1]              \n",
            " 15                -1  1         0  torch.nn.modules.upsampling.Upsample    [None, 2, 'nearest']          \n",
            " 16           [-1, 4]  1         0  models.common.Concat                    [1]                           \n",
            " 17                -1  1     90880  models.common.C3                        [256, 128, 1, False]          \n",
            " 18                -1  1    147712  models.common.Conv                      [128, 128, 3, 2]              \n",
            " 19          [-1, 14]  1         0  models.common.Concat                    [1]                           \n",
            " 20                -1  1    296448  models.common.C3                        [256, 256, 1, False]          \n",
            " 21                -1  1    590336  models.common.Conv                      [256, 256, 3, 2]              \n",
            " 22          [-1, 10]  1         0  models.common.Concat                    [1]                           \n",
            " 23                -1  1   1182720  models.common.C3                        [512, 512, 1, False]          \n",
            " 24      [17, 20, 23]  1     18879  models.yolo.Detect                      [2, [[10, 13, 16, 30, 33, 23], [30, 61, 62, 45, 59, 119], [116, 90, 156, 198, 373, 326]], [128, 256, 512]]\n",
            "Model summary: 270 layers, 7025023 parameters, 7025023 gradients, 16.0 GFLOPs\n",
            "\n",
            "Transferred 343/349 items from yolov5s.pt\n",
            "Scaled weight_decay = 0.0005\n",
            "\u001b[34m\u001b[1moptimizer:\u001b[0m SGD with parameter groups 57 weight (no decay), 60 weight, 60 bias\n",
            "\u001b[34m\u001b[1malbumentations: \u001b[0mversion 1.0.3 required by YOLOv5, but version 0.1.12 is currently installed\n",
            "\u001b[34m\u001b[1mtrain: \u001b[0mScanning '/content/drive/MyDrive/Dataset/train/labels' images and labels...546 found, 0 missing, 0 empty, 220 corrupt: 100% 546/546 [02:22<00:00,  3.82it/s]\n",
            "\u001b[34m\u001b[1mtrain: \u001b[0mWARNING: /content/drive/MyDrive/Dataset/train/images/sa064.jpg: ignoring corrupt image/label: non-normalized or out of bounds coordinates [     1.0008]\n",
            "\u001b[34m\u001b[1mtrain: \u001b[0mWARNING: /content/drive/MyDrive/Dataset/train/images/sa065.jpg: ignoring corrupt image/label: non-normalized or out of bounds coordinates [     1.0008]\n",
            "\u001b[34m\u001b[1mtrain: \u001b[0mWARNING: /content/drive/MyDrive/Dataset/train/images/sa066.jpg: ignoring corrupt image/label: non-normalized or out of bounds coordinates [     1.0008]\n",
            "\u001b[34m\u001b[1mtrain: \u001b[0mWARNING: /content/drive/MyDrive/Dataset/train/images/sa067.jpg: ignoring corrupt image/label: non-normalized or out of bounds coordinates [     1.0008]\n",
            "\u001b[34m\u001b[1mtrain: \u001b[0mWARNING: /content/drive/MyDrive/Dataset/train/images/sa068.jpg: ignoring corrupt image/label: non-normalized or out of bounds coordinates [     1.0008]\n",
            "\u001b[34m\u001b[1mtrain: \u001b[0mWARNING: /content/drive/MyDrive/Dataset/train/images/sa069.jpg: ignoring corrupt image/label: non-normalized or out of bounds coordinates [     1.0008]\n",
            "\u001b[34m\u001b[1mtrain: \u001b[0mWARNING: /content/drive/MyDrive/Dataset/train/images/sa070.jpg: ignoring corrupt image/label: non-normalized or out of bounds coordinates [     1.0008]\n",
            "\u001b[34m\u001b[1mtrain: \u001b[0mWARNING: /content/drive/MyDrive/Dataset/train/images/sa071.jpg: ignoring corrupt image/label: non-normalized or out of bounds coordinates [     1.0008]\n",
            "\u001b[34m\u001b[1mtrain: \u001b[0mWARNING: /content/drive/MyDrive/Dataset/train/images/sa072.jpg: ignoring corrupt image/label: non-normalized or out of bounds coordinates [     1.0008]\n",
            "\u001b[34m\u001b[1mtrain: \u001b[0mWARNING: /content/drive/MyDrive/Dataset/train/images/sa073.jpg: ignoring corrupt image/label: non-normalized or out of bounds coordinates [     1.0008]\n",
            "\u001b[34m\u001b[1mtrain: \u001b[0mWARNING: /content/drive/MyDrive/Dataset/train/images/sa074.jpg: ignoring corrupt image/label: non-normalized or out of bounds coordinates [     1.0008]\n",
            "\u001b[34m\u001b[1mtrain: \u001b[0mWARNING: /content/drive/MyDrive/Dataset/train/images/sa075.jpg: ignoring corrupt image/label: non-normalized or out of bounds coordinates [     1.0008]\n",
            "\u001b[34m\u001b[1mtrain: \u001b[0mWARNING: /content/drive/MyDrive/Dataset/train/images/sa076.jpg: ignoring corrupt image/label: non-normalized or out of bounds coordinates [     1.0008]\n",
            "\u001b[34m\u001b[1mtrain: \u001b[0mWARNING: /content/drive/MyDrive/Dataset/train/images/sa077.jpg: ignoring corrupt image/label: non-normalized or out of bounds coordinates [     1.0508]\n",
            "\u001b[34m\u001b[1mtrain: \u001b[0mWARNING: /content/drive/MyDrive/Dataset/train/images/sa078.jpg: ignoring corrupt image/label: non-normalized or out of bounds coordinates [     1.0508]\n",
            "\u001b[34m\u001b[1mtrain: \u001b[0mWARNING: /content/drive/MyDrive/Dataset/train/images/sa079.jpg: ignoring corrupt image/label: non-normalized or out of bounds coordinates [     1.0508]\n",
            "\u001b[34m\u001b[1mtrain: \u001b[0mWARNING: /content/drive/MyDrive/Dataset/train/images/sa080.jpg: ignoring corrupt image/label: non-normalized or out of bounds coordinates [     1.0508]\n",
            "\u001b[34m\u001b[1mtrain: \u001b[0mWARNING: /content/drive/MyDrive/Dataset/train/images/sa081.jpg: ignoring corrupt image/label: non-normalized or out of bounds coordinates [     1.0508]\n",
            "\u001b[34m\u001b[1mtrain: \u001b[0mWARNING: /content/drive/MyDrive/Dataset/train/images/sa082.jpg: ignoring corrupt image/label: non-normalized or out of bounds coordinates [     1.0508]\n",
            "\u001b[34m\u001b[1mtrain: \u001b[0mWARNING: /content/drive/MyDrive/Dataset/train/images/sa083.jpg: ignoring corrupt image/label: non-normalized or out of bounds coordinates [     1.0508]\n",
            "\u001b[34m\u001b[1mtrain: \u001b[0mWARNING: /content/drive/MyDrive/Dataset/train/images/sa084.jpg: ignoring corrupt image/label: non-normalized or out of bounds coordinates [     1.0508]\n",
            "\u001b[34m\u001b[1mtrain: \u001b[0mWARNING: /content/drive/MyDrive/Dataset/train/images/sa085.jpg: ignoring corrupt image/label: non-normalized or out of bounds coordinates [     1.0508]\n",
            "\u001b[34m\u001b[1mtrain: \u001b[0mWARNING: /content/drive/MyDrive/Dataset/train/images/sa086.jpg: ignoring corrupt image/label: non-normalized or out of bounds coordinates [     1.0508]\n",
            "\u001b[34m\u001b[1mtrain: \u001b[0mWARNING: /content/drive/MyDrive/Dataset/train/images/sa087.jpg: ignoring corrupt image/label: non-normalized or out of bounds coordinates [     1.0508]\n",
            "\u001b[34m\u001b[1mtrain: \u001b[0mWARNING: /content/drive/MyDrive/Dataset/train/images/sa088.jpg: ignoring corrupt image/label: non-normalized or out of bounds coordinates [     1.0008]\n",
            "\u001b[34m\u001b[1mtrain: \u001b[0mWARNING: /content/drive/MyDrive/Dataset/train/images/sa089.jpg: ignoring corrupt image/label: non-normalized or out of bounds coordinates [     1.0008]\n",
            "\u001b[34m\u001b[1mtrain: \u001b[0mWARNING: /content/drive/MyDrive/Dataset/train/images/sa090.jpg: ignoring corrupt image/label: non-normalized or out of bounds coordinates [     1.0008]\n",
            "\u001b[34m\u001b[1mtrain: \u001b[0mWARNING: /content/drive/MyDrive/Dataset/train/images/sa091.jpg: ignoring corrupt image/label: non-normalized or out of bounds coordinates [     1.0008]\n",
            "\u001b[34m\u001b[1mtrain: \u001b[0mWARNING: /content/drive/MyDrive/Dataset/train/images/sa114.jpg: ignoring corrupt image/label: non-normalized or out of bounds coordinates [     1.0445]\n",
            "\u001b[34m\u001b[1mtrain: \u001b[0mWARNING: /content/drive/MyDrive/Dataset/train/images/sa115.jpg: ignoring corrupt image/label: non-normalized or out of bounds coordinates [     1.0445]\n",
            "\u001b[34m\u001b[1mtrain: \u001b[0mWARNING: /content/drive/MyDrive/Dataset/train/images/sa116.jpg: ignoring corrupt image/label: non-normalized or out of bounds coordinates [     1.0445]\n",
            "\u001b[34m\u001b[1mtrain: \u001b[0mWARNING: /content/drive/MyDrive/Dataset/train/images/sa117.jpg: ignoring corrupt image/label: non-normalized or out of bounds coordinates [     1.0445]\n",
            "\u001b[34m\u001b[1mtrain: \u001b[0mWARNING: /content/drive/MyDrive/Dataset/train/images/san009.jpg: ignoring corrupt image/label: non-normalized or out of bounds coordinates [     1.0028]\n",
            "\u001b[34m\u001b[1mtrain: \u001b[0mWARNING: /content/drive/MyDrive/Dataset/train/images/san010.jpg: ignoring corrupt image/label: non-normalized or out of bounds coordinates [     1.0028]\n",
            "\u001b[34m\u001b[1mtrain: \u001b[0mWARNING: /content/drive/MyDrive/Dataset/train/images/san011.jpg: ignoring corrupt image/label: non-normalized or out of bounds coordinates [     1.0028]\n",
            "\u001b[34m\u001b[1mtrain: \u001b[0mWARNING: /content/drive/MyDrive/Dataset/train/images/san012.jpg: ignoring corrupt image/label: non-normalized or out of bounds coordinates [     1.0028]\n",
            "\u001b[34m\u001b[1mtrain: \u001b[0mWARNING: /content/drive/MyDrive/Dataset/train/images/san013.jpg: ignoring corrupt image/label: non-normalized or out of bounds coordinates [     1.0028]\n",
            "\u001b[34m\u001b[1mtrain: \u001b[0mWARNING: /content/drive/MyDrive/Dataset/train/images/san014.jpg: ignoring corrupt image/label: non-normalized or out of bounds coordinates [     1.0028]\n",
            "\u001b[34m\u001b[1mtrain: \u001b[0mWARNING: /content/drive/MyDrive/Dataset/train/images/san015.jpg: ignoring corrupt image/label: non-normalized or out of bounds coordinates [     1.0028]\n",
            "\u001b[34m\u001b[1mtrain: \u001b[0mWARNING: /content/drive/MyDrive/Dataset/train/images/san016.jpg: ignoring corrupt image/label: non-normalized or out of bounds coordinates [     1.0028]\n",
            "\u001b[34m\u001b[1mtrain: \u001b[0mWARNING: /content/drive/MyDrive/Dataset/train/images/san017.jpg: ignoring corrupt image/label: non-normalized or out of bounds coordinates [     1.0028]\n",
            "\u001b[34m\u001b[1mtrain: \u001b[0mWARNING: /content/drive/MyDrive/Dataset/train/images/san018.jpg: ignoring corrupt image/label: non-normalized or out of bounds coordinates [     1.0028]\n",
            "\u001b[34m\u001b[1mtrain: \u001b[0mWARNING: /content/drive/MyDrive/Dataset/train/images/san019.jpg: ignoring corrupt image/label: non-normalized or out of bounds coordinates [     1.0028]\n",
            "\u001b[34m\u001b[1mtrain: \u001b[0mWARNING: /content/drive/MyDrive/Dataset/train/images/san020.jpg: ignoring corrupt image/label: non-normalized or out of bounds coordinates [     1.0028]\n",
            "\u001b[34m\u001b[1mtrain: \u001b[0mWARNING: /content/drive/MyDrive/Dataset/train/images/san021.jpg: ignoring corrupt image/label: non-normalized or out of bounds coordinates [     1.0028]\n",
            "\u001b[34m\u001b[1mtrain: \u001b[0mWARNING: /content/drive/MyDrive/Dataset/train/images/san022.jpg: ignoring corrupt image/label: non-normalized or out of bounds coordinates [     1.0028]\n",
            "\u001b[34m\u001b[1mtrain: \u001b[0mWARNING: /content/drive/MyDrive/Dataset/train/images/san023.jpg: ignoring corrupt image/label: non-normalized or out of bounds coordinates [     1.0028]\n",
            "\u001b[34m\u001b[1mtrain: \u001b[0mWARNING: /content/drive/MyDrive/Dataset/train/images/san024.jpg: ignoring corrupt image/label: non-normalized or out of bounds coordinates [     1.0028]\n",
            "\u001b[34m\u001b[1mtrain: \u001b[0mWARNING: /content/drive/MyDrive/Dataset/train/images/san025.jpg: ignoring corrupt image/label: non-normalized or out of bounds coordinates [     1.0028]\n",
            "\u001b[34m\u001b[1mtrain: \u001b[0mWARNING: /content/drive/MyDrive/Dataset/train/images/san026.jpg: ignoring corrupt image/label: non-normalized or out of bounds coordinates [     1.0028]\n",
            "\u001b[34m\u001b[1mtrain: \u001b[0mWARNING: /content/drive/MyDrive/Dataset/train/images/san027.jpg: ignoring corrupt image/label: non-normalized or out of bounds coordinates [     1.0028]\n",
            "\u001b[34m\u001b[1mtrain: \u001b[0mWARNING: /content/drive/MyDrive/Dataset/train/images/san028.jpg: ignoring corrupt image/label: non-normalized or out of bounds coordinates [     1.0028]\n",
            "\u001b[34m\u001b[1mtrain: \u001b[0mWARNING: /content/drive/MyDrive/Dataset/train/images/san029.jpg: ignoring corrupt image/label: non-normalized or out of bounds coordinates [     1.0028]\n",
            "\u001b[34m\u001b[1mtrain: \u001b[0mWARNING: /content/drive/MyDrive/Dataset/train/images/san030.jpg: ignoring corrupt image/label: non-normalized or out of bounds coordinates [     1.0028]\n",
            "\u001b[34m\u001b[1mtrain: \u001b[0mWARNING: /content/drive/MyDrive/Dataset/train/images/san031.jpg: ignoring corrupt image/label: non-normalized or out of bounds coordinates [     1.0028      1.0411]\n",
            "\u001b[34m\u001b[1mtrain: \u001b[0mWARNING: /content/drive/MyDrive/Dataset/train/images/san032.jpg: ignoring corrupt image/label: non-normalized or out of bounds coordinates [     1.0028      1.0411]\n",
            "\u001b[34m\u001b[1mtrain: \u001b[0mWARNING: /content/drive/MyDrive/Dataset/train/images/san033.jpg: ignoring corrupt image/label: non-normalized or out of bounds coordinates [     1.0028      1.0411]\n",
            "\u001b[34m\u001b[1mtrain: \u001b[0mWARNING: /content/drive/MyDrive/Dataset/train/images/san034.jpg: ignoring corrupt image/label: non-normalized or out of bounds coordinates [     1.0028      1.0411]\n",
            "\u001b[34m\u001b[1mtrain: \u001b[0mWARNING: /content/drive/MyDrive/Dataset/train/images/san035.jpg: ignoring corrupt image/label: non-normalized or out of bounds coordinates [     1.0028      1.0411]\n",
            "\u001b[34m\u001b[1mtrain: \u001b[0mWARNING: /content/drive/MyDrive/Dataset/train/images/san036.jpg: ignoring corrupt image/label: non-normalized or out of bounds coordinates [     1.0028      1.0411]\n",
            "\u001b[34m\u001b[1mtrain: \u001b[0mWARNING: /content/drive/MyDrive/Dataset/train/images/san037.jpg: ignoring corrupt image/label: non-normalized or out of bounds coordinates [     1.0028      1.0411]\n",
            "\u001b[34m\u001b[1mtrain: \u001b[0mWARNING: /content/drive/MyDrive/Dataset/train/images/san038.jpg: ignoring corrupt image/label: non-normalized or out of bounds coordinates [     1.0028      1.0411]\n",
            "\u001b[34m\u001b[1mtrain: \u001b[0mWARNING: /content/drive/MyDrive/Dataset/train/images/san039.jpg: ignoring corrupt image/label: non-normalized or out of bounds coordinates [     1.0028]\n",
            "\u001b[34m\u001b[1mtrain: \u001b[0mWARNING: /content/drive/MyDrive/Dataset/train/images/san040.jpg: ignoring corrupt image/label: non-normalized or out of bounds coordinates [     1.0028]\n",
            "\u001b[34m\u001b[1mtrain: \u001b[0mWARNING: /content/drive/MyDrive/Dataset/train/images/san041.jpg: ignoring corrupt image/label: non-normalized or out of bounds coordinates [     1.0028]\n",
            "\u001b[34m\u001b[1mtrain: \u001b[0mWARNING: /content/drive/MyDrive/Dataset/train/images/san042.jpg: ignoring corrupt image/label: non-normalized or out of bounds coordinates [     1.0028]\n",
            "\u001b[34m\u001b[1mtrain: \u001b[0mWARNING: /content/drive/MyDrive/Dataset/train/images/san043.jpg: ignoring corrupt image/label: non-normalized or out of bounds coordinates [     1.0028]\n",
            "\u001b[34m\u001b[1mtrain: \u001b[0mWARNING: /content/drive/MyDrive/Dataset/train/images/san044.jpg: ignoring corrupt image/label: non-normalized or out of bounds coordinates [     1.0028]\n",
            "\u001b[34m\u001b[1mtrain: \u001b[0mWARNING: /content/drive/MyDrive/Dataset/train/images/san045.jpg: ignoring corrupt image/label: non-normalized or out of bounds coordinates [     1.0028]\n",
            "\u001b[34m\u001b[1mtrain: \u001b[0mWARNING: /content/drive/MyDrive/Dataset/train/images/san046.jpg: ignoring corrupt image/label: non-normalized or out of bounds coordinates [     1.0028]\n",
            "\u001b[34m\u001b[1mtrain: \u001b[0mWARNING: /content/drive/MyDrive/Dataset/train/images/san047.jpg: ignoring corrupt image/label: non-normalized or out of bounds coordinates [     1.0028]\n",
            "\u001b[34m\u001b[1mtrain: \u001b[0mWARNING: /content/drive/MyDrive/Dataset/train/images/san048.jpg: ignoring corrupt image/label: non-normalized or out of bounds coordinates [     1.0028]\n",
            "\u001b[34m\u001b[1mtrain: \u001b[0mWARNING: /content/drive/MyDrive/Dataset/train/images/san049.jpg: ignoring corrupt image/label: non-normalized or out of bounds coordinates [     1.0028]\n",
            "\u001b[34m\u001b[1mtrain: \u001b[0mWARNING: /content/drive/MyDrive/Dataset/train/images/san050.jpg: ignoring corrupt image/label: non-normalized or out of bounds coordinates [     1.0028]\n",
            "\u001b[34m\u001b[1mtrain: \u001b[0mWARNING: /content/drive/MyDrive/Dataset/train/images/san051.jpg: ignoring corrupt image/label: non-normalized or out of bounds coordinates [     1.0028]\n",
            "\u001b[34m\u001b[1mtrain: \u001b[0mWARNING: /content/drive/MyDrive/Dataset/train/images/san057.jpg: ignoring corrupt image/label: non-normalized or out of bounds coordinates [     1.0099]\n",
            "\u001b[34m\u001b[1mtrain: \u001b[0mWARNING: /content/drive/MyDrive/Dataset/train/images/san058.jpg: ignoring corrupt image/label: non-normalized or out of bounds coordinates [     1.0128]\n",
            "\u001b[34m\u001b[1mtrain: \u001b[0mWARNING: /content/drive/MyDrive/Dataset/train/images/san059.jpg: ignoring corrupt image/label: non-normalized or out of bounds coordinates [     1.0346]\n",
            "\u001b[34m\u001b[1mtrain: \u001b[0mWARNING: /content/drive/MyDrive/Dataset/train/images/san060.jpg: ignoring corrupt image/label: non-normalized or out of bounds coordinates [     1.0028      1.0338]\n",
            "\u001b[34m\u001b[1mtrain: \u001b[0mWARNING: /content/drive/MyDrive/Dataset/train/images/san061.jpg: ignoring corrupt image/label: non-normalized or out of bounds coordinates [     1.0028]\n",
            "\u001b[34m\u001b[1mtrain: \u001b[0mWARNING: /content/drive/MyDrive/Dataset/train/images/san062.jpg: ignoring corrupt image/label: non-normalized or out of bounds coordinates [     1.0028]\n",
            "\u001b[34m\u001b[1mtrain: \u001b[0mWARNING: /content/drive/MyDrive/Dataset/train/images/san063.jpg: ignoring corrupt image/label: non-normalized or out of bounds coordinates [     1.0028]\n",
            "\u001b[34m\u001b[1mtrain: \u001b[0mWARNING: /content/drive/MyDrive/Dataset/train/images/san064.jpg: ignoring corrupt image/label: non-normalized or out of bounds coordinates [     1.0028]\n",
            "\u001b[34m\u001b[1mtrain: \u001b[0mWARNING: /content/drive/MyDrive/Dataset/train/images/san065.jpg: ignoring corrupt image/label: non-normalized or out of bounds coordinates [     1.0028]\n",
            "\u001b[34m\u001b[1mtrain: \u001b[0mWARNING: /content/drive/MyDrive/Dataset/train/images/san066.jpg: ignoring corrupt image/label: non-normalized or out of bounds coordinates [     1.0028]\n",
            "\u001b[34m\u001b[1mtrain: \u001b[0mWARNING: /content/drive/MyDrive/Dataset/train/images/san067.jpg: ignoring corrupt image/label: non-normalized or out of bounds coordinates [     1.0028]\n",
            "\u001b[34m\u001b[1mtrain: \u001b[0mWARNING: /content/drive/MyDrive/Dataset/train/images/san068.jpg: ignoring corrupt image/label: non-normalized or out of bounds coordinates [     1.0028]\n",
            "\u001b[34m\u001b[1mtrain: \u001b[0mWARNING: /content/drive/MyDrive/Dataset/train/images/san069.jpg: ignoring corrupt image/label: non-normalized or out of bounds coordinates [     1.0028]\n",
            "\u001b[34m\u001b[1mtrain: \u001b[0mWARNING: /content/drive/MyDrive/Dataset/train/images/san070.jpg: ignoring corrupt image/label: non-normalized or out of bounds coordinates [     1.0028]\n",
            "\u001b[34m\u001b[1mtrain: \u001b[0mWARNING: /content/drive/MyDrive/Dataset/train/images/san071.jpg: ignoring corrupt image/label: non-normalized or out of bounds coordinates [     1.0028]\n",
            "\u001b[34m\u001b[1mtrain: \u001b[0mWARNING: /content/drive/MyDrive/Dataset/train/images/san072.jpg: ignoring corrupt image/label: non-normalized or out of bounds coordinates [     1.0028]\n",
            "\u001b[34m\u001b[1mtrain: \u001b[0mWARNING: /content/drive/MyDrive/Dataset/train/images/san073.jpg: ignoring corrupt image/label: non-normalized or out of bounds coordinates [     1.0028]\n",
            "\u001b[34m\u001b[1mtrain: \u001b[0mWARNING: /content/drive/MyDrive/Dataset/train/images/san074.jpg: ignoring corrupt image/label: non-normalized or out of bounds coordinates [     1.0028]\n",
            "\u001b[34m\u001b[1mtrain: \u001b[0mWARNING: /content/drive/MyDrive/Dataset/train/images/san075.jpg: ignoring corrupt image/label: non-normalized or out of bounds coordinates [     1.0028]\n",
            "\u001b[34m\u001b[1mtrain: \u001b[0mWARNING: /content/drive/MyDrive/Dataset/train/images/san076.jpg: ignoring corrupt image/label: non-normalized or out of bounds coordinates [     1.0028]\n",
            "\u001b[34m\u001b[1mtrain: \u001b[0mWARNING: /content/drive/MyDrive/Dataset/train/images/san077.jpg: ignoring corrupt image/label: non-normalized or out of bounds coordinates [     1.0028]\n",
            "\u001b[34m\u001b[1mtrain: \u001b[0mWARNING: /content/drive/MyDrive/Dataset/train/images/san078.jpg: ignoring corrupt image/label: non-normalized or out of bounds coordinates [     1.0028]\n",
            "\u001b[34m\u001b[1mtrain: \u001b[0mWARNING: /content/drive/MyDrive/Dataset/train/images/san079.jpg: ignoring corrupt image/label: non-normalized or out of bounds coordinates [     1.0028]\n",
            "\u001b[34m\u001b[1mtrain: \u001b[0mWARNING: /content/drive/MyDrive/Dataset/train/images/san080.jpg: ignoring corrupt image/label: non-normalized or out of bounds coordinates [     1.0028]\n",
            "\u001b[34m\u001b[1mtrain: \u001b[0mWARNING: /content/drive/MyDrive/Dataset/train/images/san081.jpg: ignoring corrupt image/label: non-normalized or out of bounds coordinates [     1.0028]\n",
            "\u001b[34m\u001b[1mtrain: \u001b[0mWARNING: /content/drive/MyDrive/Dataset/train/images/san082.jpg: ignoring corrupt image/label: non-normalized or out of bounds coordinates [     1.0028]\n",
            "\u001b[34m\u001b[1mtrain: \u001b[0mWARNING: /content/drive/MyDrive/Dataset/train/images/san083.jpg: ignoring corrupt image/label: non-normalized or out of bounds coordinates [     1.0028]\n",
            "\u001b[34m\u001b[1mtrain: \u001b[0mWARNING: /content/drive/MyDrive/Dataset/train/images/san084.jpg: ignoring corrupt image/label: non-normalized or out of bounds coordinates [     1.0028]\n",
            "\u001b[34m\u001b[1mtrain: \u001b[0mWARNING: /content/drive/MyDrive/Dataset/train/images/san085.jpg: ignoring corrupt image/label: non-normalized or out of bounds coordinates [     1.0028]\n",
            "\u001b[34m\u001b[1mtrain: \u001b[0mWARNING: /content/drive/MyDrive/Dataset/train/images/san086.jpg: ignoring corrupt image/label: non-normalized or out of bounds coordinates [     1.0028]\n",
            "\u001b[34m\u001b[1mtrain: \u001b[0mWARNING: /content/drive/MyDrive/Dataset/train/images/san087.jpg: ignoring corrupt image/label: non-normalized or out of bounds coordinates [     1.0028]\n",
            "\u001b[34m\u001b[1mtrain: \u001b[0mWARNING: /content/drive/MyDrive/Dataset/train/images/san088.jpg: ignoring corrupt image/label: non-normalized or out of bounds coordinates [     1.0028]\n",
            "\u001b[34m\u001b[1mtrain: \u001b[0mWARNING: /content/drive/MyDrive/Dataset/train/images/san089.jpg: ignoring corrupt image/label: non-normalized or out of bounds coordinates [     1.0028]\n",
            "\u001b[34m\u001b[1mtrain: \u001b[0mWARNING: /content/drive/MyDrive/Dataset/train/images/san090.jpg: ignoring corrupt image/label: non-normalized or out of bounds coordinates [     1.0028]\n",
            "\u001b[34m\u001b[1mtrain: \u001b[0mWARNING: /content/drive/MyDrive/Dataset/train/images/san091.jpg: ignoring corrupt image/label: non-normalized or out of bounds coordinates [     1.0028]\n",
            "\u001b[34m\u001b[1mtrain: \u001b[0mWARNING: /content/drive/MyDrive/Dataset/train/images/san092.jpg: ignoring corrupt image/label: non-normalized or out of bounds coordinates [     1.0028]\n",
            "\u001b[34m\u001b[1mtrain: \u001b[0mWARNING: /content/drive/MyDrive/Dataset/train/images/san093.jpg: ignoring corrupt image/label: non-normalized or out of bounds coordinates [     1.0028]\n",
            "\u001b[34m\u001b[1mtrain: \u001b[0mWARNING: /content/drive/MyDrive/Dataset/train/images/san094.jpg: ignoring corrupt image/label: non-normalized or out of bounds coordinates [     1.0028]\n",
            "\u001b[34m\u001b[1mtrain: \u001b[0mWARNING: /content/drive/MyDrive/Dataset/train/images/san095.jpg: ignoring corrupt image/label: non-normalized or out of bounds coordinates [     1.0028]\n",
            "\u001b[34m\u001b[1mtrain: \u001b[0mWARNING: /content/drive/MyDrive/Dataset/train/images/san096.jpg: ignoring corrupt image/label: non-normalized or out of bounds coordinates [     1.0028]\n",
            "\u001b[34m\u001b[1mtrain: \u001b[0mWARNING: /content/drive/MyDrive/Dataset/train/images/san097.jpg: ignoring corrupt image/label: non-normalized or out of bounds coordinates [     1.0028]\n",
            "\u001b[34m\u001b[1mtrain: \u001b[0mWARNING: /content/drive/MyDrive/Dataset/train/images/san098.jpg: ignoring corrupt image/label: non-normalized or out of bounds coordinates [     1.0028]\n",
            "\u001b[34m\u001b[1mtrain: \u001b[0mWARNING: /content/drive/MyDrive/Dataset/train/images/san099.jpg: ignoring corrupt image/label: non-normalized or out of bounds coordinates [     1.0028]\n",
            "\u001b[34m\u001b[1mtrain: \u001b[0mWARNING: /content/drive/MyDrive/Dataset/train/images/san100.jpg: ignoring corrupt image/label: non-normalized or out of bounds coordinates [     1.0028]\n",
            "\u001b[34m\u001b[1mtrain: \u001b[0mWARNING: /content/drive/MyDrive/Dataset/train/images/san101.jpg: ignoring corrupt image/label: non-normalized or out of bounds coordinates [     1.0028]\n",
            "\u001b[34m\u001b[1mtrain: \u001b[0mWARNING: /content/drive/MyDrive/Dataset/train/images/san102.jpg: ignoring corrupt image/label: non-normalized or out of bounds coordinates [     1.0028]\n",
            "\u001b[34m\u001b[1mtrain: \u001b[0mWARNING: /content/drive/MyDrive/Dataset/train/images/san103.jpg: ignoring corrupt image/label: non-normalized or out of bounds coordinates [     1.0028]\n",
            "\u001b[34m\u001b[1mtrain: \u001b[0mWARNING: /content/drive/MyDrive/Dataset/train/images/san104.jpg: ignoring corrupt image/label: non-normalized or out of bounds coordinates [     1.0028]\n",
            "\u001b[34m\u001b[1mtrain: \u001b[0mWARNING: /content/drive/MyDrive/Dataset/train/images/san105.jpg: ignoring corrupt image/label: non-normalized or out of bounds coordinates [     1.0028]\n",
            "\u001b[34m\u001b[1mtrain: \u001b[0mWARNING: /content/drive/MyDrive/Dataset/train/images/san106.jpg: ignoring corrupt image/label: non-normalized or out of bounds coordinates [     1.0028]\n",
            "\u001b[34m\u001b[1mtrain: \u001b[0mWARNING: /content/drive/MyDrive/Dataset/train/images/san107.jpg: ignoring corrupt image/label: non-normalized or out of bounds coordinates [     1.0028]\n",
            "\u001b[34m\u001b[1mtrain: \u001b[0mWARNING: /content/drive/MyDrive/Dataset/train/images/san108.jpg: ignoring corrupt image/label: non-normalized or out of bounds coordinates [     1.0028]\n",
            "\u001b[34m\u001b[1mtrain: \u001b[0mWARNING: /content/drive/MyDrive/Dataset/train/images/san109.jpg: ignoring corrupt image/label: non-normalized or out of bounds coordinates [     1.0028]\n",
            "\u001b[34m\u001b[1mtrain: \u001b[0mWARNING: /content/drive/MyDrive/Dataset/train/images/san110.jpg: ignoring corrupt image/label: non-normalized or out of bounds coordinates [     1.0528]\n",
            "\u001b[34m\u001b[1mtrain: \u001b[0mWARNING: /content/drive/MyDrive/Dataset/train/images/san111.jpg: ignoring corrupt image/label: non-normalized or out of bounds coordinates [     1.0528]\n",
            "\u001b[34m\u001b[1mtrain: \u001b[0mWARNING: /content/drive/MyDrive/Dataset/train/images/san112.jpg: ignoring corrupt image/label: non-normalized or out of bounds coordinates [     1.0528]\n",
            "\u001b[34m\u001b[1mtrain: \u001b[0mWARNING: /content/drive/MyDrive/Dataset/train/images/san113.jpg: ignoring corrupt image/label: non-normalized or out of bounds coordinates [     1.0528]\n",
            "\u001b[34m\u001b[1mtrain: \u001b[0mWARNING: /content/drive/MyDrive/Dataset/train/images/san114.jpg: ignoring corrupt image/label: non-normalized or out of bounds coordinates [     1.0528]\n",
            "\u001b[34m\u001b[1mtrain: \u001b[0mWARNING: /content/drive/MyDrive/Dataset/train/images/san115.jpg: ignoring corrupt image/label: non-normalized or out of bounds coordinates [     1.0528]\n",
            "\u001b[34m\u001b[1mtrain: \u001b[0mWARNING: /content/drive/MyDrive/Dataset/train/images/san116.jpg: ignoring corrupt image/label: non-normalized or out of bounds coordinates [     1.0528]\n",
            "\u001b[34m\u001b[1mtrain: \u001b[0mWARNING: /content/drive/MyDrive/Dataset/train/images/san117.jpg: ignoring corrupt image/label: non-normalized or out of bounds coordinates [     1.0528]\n",
            "\u001b[34m\u001b[1mtrain: \u001b[0mWARNING: /content/drive/MyDrive/Dataset/train/images/san118.jpg: ignoring corrupt image/label: non-normalized or out of bounds coordinates [     1.0528]\n",
            "\u001b[34m\u001b[1mtrain: \u001b[0mWARNING: /content/drive/MyDrive/Dataset/train/images/san119.jpg: ignoring corrupt image/label: non-normalized or out of bounds coordinates [     1.0528]\n",
            "\u001b[34m\u001b[1mtrain: \u001b[0mWARNING: /content/drive/MyDrive/Dataset/train/images/san120.jpg: ignoring corrupt image/label: non-normalized or out of bounds coordinates [     1.0528      1.0375]\n",
            "\u001b[34m\u001b[1mtrain: \u001b[0mWARNING: /content/drive/MyDrive/Dataset/train/images/san121.jpg: ignoring corrupt image/label: non-normalized or out of bounds coordinates [     1.0528]\n",
            "\u001b[34m\u001b[1mtrain: \u001b[0mWARNING: /content/drive/MyDrive/Dataset/train/images/san122.jpg: ignoring corrupt image/label: non-normalized or out of bounds coordinates [     1.0528]\n",
            "\u001b[34m\u001b[1mtrain: \u001b[0mWARNING: /content/drive/MyDrive/Dataset/train/images/san123.jpg: ignoring corrupt image/label: non-normalized or out of bounds coordinates [     1.0528       1.007]\n",
            "\u001b[34m\u001b[1mtrain: \u001b[0mWARNING: /content/drive/MyDrive/Dataset/train/images/san124.jpg: ignoring corrupt image/label: non-normalized or out of bounds coordinates [     1.0528      1.0107]\n",
            "\u001b[34m\u001b[1mtrain: \u001b[0mWARNING: /content/drive/MyDrive/Dataset/train/images/san125.jpg: ignoring corrupt image/label: non-normalized or out of bounds coordinates [     1.0154]\n",
            "\u001b[34m\u001b[1mtrain: \u001b[0mWARNING: /content/drive/MyDrive/Dataset/train/images/san126.jpg: ignoring corrupt image/label: non-normalized or out of bounds coordinates [      1.019]\n",
            "\u001b[34m\u001b[1mtrain: \u001b[0mWARNING: /content/drive/MyDrive/Dataset/train/images/san127.jpg: ignoring corrupt image/label: non-normalized or out of bounds coordinates [     1.0216]\n",
            "\u001b[34m\u001b[1mtrain: \u001b[0mWARNING: /content/drive/MyDrive/Dataset/train/images/san128.jpg: ignoring corrupt image/label: non-normalized or out of bounds coordinates [     1.0284]\n",
            "\u001b[34m\u001b[1mtrain: \u001b[0mWARNING: /content/drive/MyDrive/Dataset/train/images/san129.jpg: ignoring corrupt image/label: non-normalized or out of bounds coordinates [     1.0331]\n",
            "\u001b[34m\u001b[1mtrain: \u001b[0mWARNING: /content/drive/MyDrive/Dataset/train/images/san130.jpg: ignoring corrupt image/label: non-normalized or out of bounds coordinates [     1.0341]\n",
            "\u001b[34m\u001b[1mtrain: \u001b[0mWARNING: /content/drive/MyDrive/Dataset/train/images/san131.jpg: ignoring corrupt image/label: non-normalized or out of bounds coordinates [     1.0357]\n",
            "\u001b[34m\u001b[1mtrain: \u001b[0mWARNING: /content/drive/MyDrive/Dataset/train/images/san132.jpg: ignoring corrupt image/label: non-normalized or out of bounds coordinates [     1.0341]\n",
            "\u001b[34m\u001b[1mtrain: \u001b[0mWARNING: /content/drive/MyDrive/Dataset/train/images/san133.jpg: ignoring corrupt image/label: non-normalized or out of bounds coordinates [     1.0294]\n",
            "\u001b[34m\u001b[1mtrain: \u001b[0mWARNING: /content/drive/MyDrive/Dataset/train/images/san134.jpg: ignoring corrupt image/label: non-normalized or out of bounds coordinates [     1.0305]\n",
            "\u001b[34m\u001b[1mtrain: \u001b[0mWARNING: /content/drive/MyDrive/Dataset/train/images/san135.jpg: ignoring corrupt image/label: non-normalized or out of bounds coordinates [     1.0289]\n",
            "\u001b[34m\u001b[1mtrain: \u001b[0mWARNING: /content/drive/MyDrive/Dataset/train/images/san136.jpg: ignoring corrupt image/label: non-normalized or out of bounds coordinates [     1.0273]\n",
            "\u001b[34m\u001b[1mtrain: \u001b[0mWARNING: /content/drive/MyDrive/Dataset/train/images/san137.jpg: ignoring corrupt image/label: non-normalized or out of bounds coordinates [     1.0258]\n",
            "\u001b[34m\u001b[1mtrain: \u001b[0mWARNING: /content/drive/MyDrive/Dataset/train/images/san138.jpg: ignoring corrupt image/label: non-normalized or out of bounds coordinates [     1.0268]\n",
            "\u001b[34m\u001b[1mtrain: \u001b[0mWARNING: /content/drive/MyDrive/Dataset/train/images/san139.jpg: ignoring corrupt image/label: non-normalized or out of bounds coordinates [     1.0187]\n",
            "\u001b[34m\u001b[1mtrain: \u001b[0mWARNING: /content/drive/MyDrive/Dataset/train/images/san140.jpg: ignoring corrupt image/label: non-normalized or out of bounds coordinates [     1.0065]\n",
            "\u001b[34m\u001b[1mtrain: \u001b[0mWARNING: /content/drive/MyDrive/Dataset/train/images/san141.jpg: ignoring corrupt image/label: non-normalized or out of bounds coordinates [     1.0096]\n",
            "\u001b[34m\u001b[1mtrain: \u001b[0mWARNING: /content/drive/MyDrive/Dataset/train/images/san142.jpg: ignoring corrupt image/label: non-normalized or out of bounds coordinates [     1.0013]\n",
            "\u001b[34m\u001b[1mtrain: \u001b[0mWARNING: /content/drive/MyDrive/Dataset/train/images/san143.jpg: ignoring corrupt image/label: non-normalized or out of bounds coordinates [     1.0086]\n",
            "\u001b[34m\u001b[1mtrain: \u001b[0mWARNING: /content/drive/MyDrive/Dataset/train/images/san144.jpg: ignoring corrupt image/label: non-normalized or out of bounds coordinates [     1.0039]\n",
            "\u001b[34m\u001b[1mtrain: \u001b[0mWARNING: /content/drive/MyDrive/Dataset/train/images/san145.jpg: ignoring corrupt image/label: non-normalized or out of bounds coordinates [     1.0852      1.0094]\n",
            "\u001b[34m\u001b[1mtrain: \u001b[0mWARNING: /content/drive/MyDrive/Dataset/train/images/san146.jpg: ignoring corrupt image/label: non-normalized or out of bounds coordinates [     1.0852      1.0148]\n",
            "\u001b[34m\u001b[1mtrain: \u001b[0mWARNING: /content/drive/MyDrive/Dataset/train/images/san147.jpg: ignoring corrupt image/label: non-normalized or out of bounds coordinates [     1.0852      1.0287]\n",
            "\u001b[34m\u001b[1mtrain: \u001b[0mWARNING: /content/drive/MyDrive/Dataset/train/images/san148.jpg: ignoring corrupt image/label: non-normalized or out of bounds coordinates [     1.0852      1.0276]\n",
            "\u001b[34m\u001b[1mtrain: \u001b[0mWARNING: /content/drive/MyDrive/Dataset/train/images/san149.jpg: ignoring corrupt image/label: non-normalized or out of bounds coordinates [     1.0852       1.026]\n",
            "\u001b[34m\u001b[1mtrain: \u001b[0mWARNING: /content/drive/MyDrive/Dataset/train/images/san150.jpg: ignoring corrupt image/label: non-normalized or out of bounds coordinates [     1.0852      1.0167]\n",
            "\u001b[34m\u001b[1mtrain: \u001b[0mWARNING: /content/drive/MyDrive/Dataset/train/images/san151.jpg: ignoring corrupt image/label: non-normalized or out of bounds coordinates [     1.0852      1.0073]\n",
            "\u001b[34m\u001b[1mtrain: \u001b[0mWARNING: /content/drive/MyDrive/Dataset/train/images/san152.jpg: ignoring corrupt image/label: non-normalized or out of bounds coordinates [     1.0852]\n",
            "\u001b[34m\u001b[1mtrain: \u001b[0mWARNING: /content/drive/MyDrive/Dataset/train/images/san153.jpg: ignoring corrupt image/label: non-normalized or out of bounds coordinates [     1.0852]\n",
            "\u001b[34m\u001b[1mtrain: \u001b[0mWARNING: /content/drive/MyDrive/Dataset/train/images/san154.jpg: ignoring corrupt image/label: non-normalized or out of bounds coordinates [     1.0852]\n",
            "\u001b[34m\u001b[1mtrain: \u001b[0mWARNING: /content/drive/MyDrive/Dataset/train/images/san155.jpg: ignoring corrupt image/label: non-normalized or out of bounds coordinates [     1.0852]\n",
            "\u001b[34m\u001b[1mtrain: \u001b[0mWARNING: /content/drive/MyDrive/Dataset/train/images/san156.jpg: ignoring corrupt image/label: non-normalized or out of bounds coordinates [     1.0852      1.0042]\n",
            "\u001b[34m\u001b[1mtrain: \u001b[0mWARNING: /content/drive/MyDrive/Dataset/train/images/san157.jpg: ignoring corrupt image/label: non-normalized or out of bounds coordinates [     1.0852      1.0112]\n",
            "\u001b[34m\u001b[1mtrain: \u001b[0mWARNING: /content/drive/MyDrive/Dataset/train/images/san158.jpg: ignoring corrupt image/label: non-normalized or out of bounds coordinates [     1.0852      1.0044]\n",
            "\u001b[34m\u001b[1mtrain: \u001b[0mWARNING: /content/drive/MyDrive/Dataset/train/images/san159.jpg: ignoring corrupt image/label: non-normalized or out of bounds coordinates [     1.0852]\n",
            "\u001b[34m\u001b[1mtrain: \u001b[0mWARNING: /content/drive/MyDrive/Dataset/train/images/san160.jpg: ignoring corrupt image/label: non-normalized or out of bounds coordinates [     1.0852]\n",
            "\u001b[34m\u001b[1mtrain: \u001b[0mWARNING: /content/drive/MyDrive/Dataset/train/images/san161.jpg: ignoring corrupt image/label: non-normalized or out of bounds coordinates [     1.0852]\n",
            "\u001b[34m\u001b[1mtrain: \u001b[0mWARNING: /content/drive/MyDrive/Dataset/train/images/san162.jpg: ignoring corrupt image/label: non-normalized or out of bounds coordinates [     1.0852      1.0021      1.0148]\n",
            "\u001b[34m\u001b[1mtrain: \u001b[0mWARNING: /content/drive/MyDrive/Dataset/train/images/san163.jpg: ignoring corrupt image/label: non-normalized or out of bounds coordinates [     1.0852]\n",
            "\u001b[34m\u001b[1mtrain: \u001b[0mWARNING: /content/drive/MyDrive/Dataset/train/images/san164.jpg: ignoring corrupt image/label: non-normalized or out of bounds coordinates [     1.0852]\n",
            "\u001b[34m\u001b[1mtrain: \u001b[0mWARNING: /content/drive/MyDrive/Dataset/train/images/san165.jpg: ignoring corrupt image/label: non-normalized or out of bounds coordinates [     1.0852]\n",
            "\u001b[34m\u001b[1mtrain: \u001b[0mWARNING: /content/drive/MyDrive/Dataset/train/images/san166.jpg: ignoring corrupt image/label: non-normalized or out of bounds coordinates [     1.0852      1.0023]\n",
            "\u001b[34m\u001b[1mtrain: \u001b[0mWARNING: /content/drive/MyDrive/Dataset/train/images/san167.jpg: ignoring corrupt image/label: non-normalized or out of bounds coordinates [     1.0852      1.0021]\n",
            "\u001b[34m\u001b[1mtrain: \u001b[0mWARNING: /content/drive/MyDrive/Dataset/train/images/san168.jpg: ignoring corrupt image/label: non-normalized or out of bounds coordinates [     1.0852]\n",
            "\u001b[34m\u001b[1mtrain: \u001b[0mWARNING: /content/drive/MyDrive/Dataset/train/images/san169.jpg: ignoring corrupt image/label: non-normalized or out of bounds coordinates [     1.0852]\n",
            "\u001b[34m\u001b[1mtrain: \u001b[0mWARNING: /content/drive/MyDrive/Dataset/train/images/san170.jpg: ignoring corrupt image/label: non-normalized or out of bounds coordinates [     1.1398]\n",
            "\u001b[34m\u001b[1mtrain: \u001b[0mWARNING: /content/drive/MyDrive/Dataset/train/images/san171.jpg: ignoring corrupt image/label: non-normalized or out of bounds coordinates [     1.1398      1.0073      1.0148]\n",
            "\u001b[34m\u001b[1mtrain: \u001b[0mWARNING: /content/drive/MyDrive/Dataset/train/images/san172.jpg: ignoring corrupt image/label: non-normalized or out of bounds coordinates [     1.1398       1.013      1.0458      1.0657]\n",
            "\u001b[34m\u001b[1mtrain: \u001b[0mWARNING: /content/drive/MyDrive/Dataset/train/images/san173.jpg: ignoring corrupt image/label: non-normalized or out of bounds coordinates [     1.1398      1.0047      1.0458      1.0657]\n",
            "\u001b[34m\u001b[1mtrain: \u001b[0mWARNING: /content/drive/MyDrive/Dataset/train/images/san174.jpg: ignoring corrupt image/label: non-normalized or out of bounds coordinates [     1.1398       1.012      1.0458      1.0657]\n",
            "\u001b[34m\u001b[1mtrain: \u001b[0mWARNING: /content/drive/MyDrive/Dataset/train/images/san175.jpg: ignoring corrupt image/label: non-normalized or out of bounds coordinates [     1.0852      1.0052      1.0458      1.0657]\n",
            "\u001b[34m\u001b[1mtrain: \u001b[0mWARNING: /content/drive/MyDrive/Dataset/train/images/san176.jpg: ignoring corrupt image/label: non-normalized or out of bounds coordinates [     1.0852      1.0052      1.0458      1.0657]\n",
            "\u001b[34m\u001b[1mtrain: \u001b[0mWARNING: /content/drive/MyDrive/Dataset/train/images/san177.jpg: ignoring corrupt image/label: non-normalized or out of bounds coordinates [     1.0852      1.0146      1.0458      1.0657]\n",
            "\u001b[34m\u001b[1mtrain: \u001b[0mWARNING: /content/drive/MyDrive/Dataset/train/images/san178.jpg: ignoring corrupt image/label: non-normalized or out of bounds coordinates [     1.0852      1.0115      1.0458      1.0657]\n",
            "\u001b[34m\u001b[1mtrain: \u001b[0mWARNING: /content/drive/MyDrive/Dataset/train/images/san179.jpg: ignoring corrupt image/label: non-normalized or out of bounds coordinates [     1.0852      1.0146      1.0458      1.0657]\n",
            "\u001b[34m\u001b[1mtrain: \u001b[0mWARNING: /content/drive/MyDrive/Dataset/train/images/san180.jpg: ignoring corrupt image/label: non-normalized or out of bounds coordinates [     1.0852      1.0193      1.0458      1.0657]\n",
            "\u001b[34m\u001b[1mtrain: \u001b[0mWARNING: /content/drive/MyDrive/Dataset/train/images/san181.jpg: ignoring corrupt image/label: non-normalized or out of bounds coordinates [     1.0852      1.0245      1.0458      1.0657]\n",
            "\u001b[34m\u001b[1mtrain: \u001b[0mWARNING: /content/drive/MyDrive/Dataset/train/images/san182.jpg: ignoring corrupt image/label: non-normalized or out of bounds coordinates [     1.0852      1.0234      1.0458      1.0657]\n",
            "\u001b[34m\u001b[1mtrain: \u001b[0mWARNING: /content/drive/MyDrive/Dataset/train/images/san183.jpg: ignoring corrupt image/label: non-normalized or out of bounds coordinates [     1.0852      1.0234      1.0458      1.0657]\n",
            "\u001b[34m\u001b[1mtrain: \u001b[0mWARNING: /content/drive/MyDrive/Dataset/train/images/san184.jpg: ignoring corrupt image/label: non-normalized or out of bounds coordinates [     1.0852      1.0287      1.0458      1.0657]\n",
            "\u001b[34m\u001b[1mtrain: \u001b[0mWARNING: /content/drive/MyDrive/Dataset/train/images/san185.jpg: ignoring corrupt image/label: non-normalized or out of bounds coordinates [     1.0852       1.037      1.0458      1.0657]\n",
            "\u001b[34m\u001b[1mtrain: \u001b[0mWARNING: /content/drive/MyDrive/Dataset/train/images/san186.jpg: ignoring corrupt image/label: non-normalized or out of bounds coordinates [     1.0852      1.0318      1.0458      1.0657]\n",
            "\u001b[34m\u001b[1mtrain: \u001b[0mWARNING: /content/drive/MyDrive/Dataset/train/images/san187.jpg: ignoring corrupt image/label: non-normalized or out of bounds coordinates [     1.0852      1.0365      1.0458      1.0657]\n",
            "\u001b[34m\u001b[1mtrain: \u001b[0mWARNING: /content/drive/MyDrive/Dataset/train/images/san188.jpg: ignoring corrupt image/label: non-normalized or out of bounds coordinates [     1.0852      1.0385      1.0134      1.0458      1.0657]\n",
            "\u001b[34m\u001b[1mtrain: \u001b[0mWARNING: /content/drive/MyDrive/Dataset/train/images/san189.jpg: ignoring corrupt image/label: non-normalized or out of bounds coordinates [     1.0852      1.0458      1.0366      1.0458      1.0657]\n",
            "\u001b[34m\u001b[1mtrain: \u001b[0mWARNING: /content/drive/MyDrive/Dataset/train/images/san190.jpg: ignoring corrupt image/label: non-normalized or out of bounds coordinates [     1.0852      1.0583      1.0616      1.0979      1.1194]\n",
            "\u001b[34m\u001b[1mtrain: \u001b[0mWARNING: /content/drive/MyDrive/Dataset/train/images/san191.jpg: ignoring corrupt image/label: non-normalized or out of bounds coordinates [     1.0852      1.0651      1.0792      1.0979      1.1194]\n",
            "\u001b[34m\u001b[1mtrain: \u001b[0mWARNING: /content/drive/MyDrive/Dataset/train/images/san192.jpg: ignoring corrupt image/label: non-normalized or out of bounds coordinates [     1.0852       1.076      1.1005      1.0979      1.1194]\n",
            "\u001b[34m\u001b[1mtrain: \u001b[0mWARNING: /content/drive/MyDrive/Dataset/train/images/san193.jpg: ignoring corrupt image/label: non-normalized or out of bounds coordinates [     1.0852       1.087      1.1384      1.0979      1.1194]\n",
            "\u001b[34m\u001b[1mtrain: \u001b[0mWARNING: /content/drive/MyDrive/Dataset/train/images/san194.jpg: ignoring corrupt image/label: non-normalized or out of bounds coordinates [     1.0852      1.1047      1.2088      1.0979      1.1194]\n",
            "\u001b[34m\u001b[1mtrain: \u001b[0mWARNING: /content/drive/MyDrive/Dataset/train/images/san195.jpg: ignoring corrupt image/label: non-normalized or out of bounds coordinates [     1.0852      1.1042      1.2634      1.0979      1.1194]\n",
            "\u001b[34m\u001b[1mtrain: \u001b[0mWARNING: /content/drive/MyDrive/Dataset/train/images/san196.jpg: ignoring corrupt image/label: non-normalized or out of bounds coordinates [     1.0852      1.0979      1.1194]\n",
            "\u001b[34m\u001b[1mtrain: \u001b[0mWARNING: /content/drive/MyDrive/Dataset/train/images/san197.jpg: ignoring corrupt image/label: non-normalized or out of bounds coordinates [     1.0852      1.0979      1.1194]\n",
            "\u001b[34m\u001b[1mtrain: \u001b[0mWARNING: /content/drive/MyDrive/Dataset/train/images/san198.jpg: ignoring corrupt image/label: non-normalized or out of bounds coordinates [     1.0333      1.0979      1.1194]\n",
            "\u001b[34m\u001b[1mtrain: \u001b[0mWARNING: /content/drive/MyDrive/Dataset/train/images/san199.jpg: ignoring corrupt image/label: non-normalized or out of bounds coordinates [     1.0333]\n",
            "\u001b[34m\u001b[1mtrain: \u001b[0mWARNING: /content/drive/MyDrive/Dataset/train/images/san200.jpg: ignoring corrupt image/label: non-normalized or out of bounds coordinates [     1.0333]\n",
            "\u001b[34m\u001b[1mtrain: \u001b[0mWARNING: /content/drive/MyDrive/Dataset/train/images/san201.jpg: ignoring corrupt image/label: non-normalized or out of bounds coordinates [     1.0333]\n",
            "\u001b[34m\u001b[1mtrain: \u001b[0mNew cache created: /content/drive/MyDrive/Dataset/train/labels.cache\n",
            "\u001b[34m\u001b[1mtrain: \u001b[0mCaching images (0.2GB ram): 100% 326/326 [00:07<00:00, 42.56it/s]\n",
            "\u001b[34m\u001b[1mval: \u001b[0mScanning '/content/drive/MyDrive/Dataset/val/labels' images and labels...261 found, 0 missing, 0 empty, 0 corrupt: 100% 261/261 [01:08<00:00,  3.81it/s]\n",
            "\u001b[34m\u001b[1mval: \u001b[0mNew cache created: /content/drive/MyDrive/Dataset/val/labels.cache\n",
            "\u001b[34m\u001b[1mval: \u001b[0mCaching images (0.2GB ram): 100% 261/261 [00:05<00:00, 45.24it/s]\n",
            "Plotting labels to runs/train/exp/labels.jpg... \n",
            "\n",
            "\u001b[34m\u001b[1mAutoAnchor: \u001b[0m4.01 anchors/target, 1.000 Best Possible Recall (BPR). Current anchors are a good fit to dataset ✅\n",
            "Image sizes 640 train, 640 val\n",
            "Using 2 dataloader workers\n",
            "Logging results to \u001b[1mruns/train/exp\u001b[0m\n",
            "Starting training for 10 epochs...\n",
            "\n",
            "     Epoch   gpu_mem       box       obj       cls    labels  img_size\n",
            "       0/9        0G    0.1015   0.04983   0.02459        44       640: 100% 41/41 [07:31<00:00, 11.02s/it]\n",
            "               Class     Images     Labels          P          R     mAP@.5 mAP@.5:.95:   0% 0/17 [00:00<?, ?it/s]WARNING: NMS time limit 0.780s exceeded\n",
            "               Class     Images     Labels          P          R     mAP@.5 mAP@.5:.95:   6% 1/17 [00:05<01:22,  5.15s/it]WARNING: NMS time limit 0.780s exceeded\n",
            "               Class     Images     Labels          P          R     mAP@.5 mAP@.5:.95:  12% 2/17 [00:10<01:16,  5.08s/it]WARNING: NMS time limit 0.780s exceeded\n",
            "               Class     Images     Labels          P          R     mAP@.5 mAP@.5:.95:  18% 3/17 [00:15<01:10,  5.05s/it]WARNING: NMS time limit 0.780s exceeded\n",
            "               Class     Images     Labels          P          R     mAP@.5 mAP@.5:.95:  24% 4/17 [00:20<01:05,  5.02s/it]WARNING: NMS time limit 0.780s exceeded\n",
            "               Class     Images     Labels          P          R     mAP@.5 mAP@.5:.95:  29% 5/17 [00:25<01:00,  5.03s/it]WARNING: NMS time limit 0.780s exceeded\n",
            "               Class     Images     Labels          P          R     mAP@.5 mAP@.5:.95:  35% 6/17 [00:30<00:55,  5.02s/it]WARNING: NMS time limit 0.780s exceeded\n",
            "               Class     Images     Labels          P          R     mAP@.5 mAP@.5:.95:  41% 7/17 [00:35<00:50,  5.02s/it]WARNING: NMS time limit 0.780s exceeded\n",
            "               Class     Images     Labels          P          R     mAP@.5 mAP@.5:.95:  47% 8/17 [00:41<00:48,  5.33s/it]WARNING: NMS time limit 0.780s exceeded\n",
            "               Class     Images     Labels          P          R     mAP@.5 mAP@.5:.95:  53% 9/17 [00:46<00:42,  5.34s/it]WARNING: NMS time limit 0.780s exceeded\n",
            "               Class     Images     Labels          P          R     mAP@.5 mAP@.5:.95:  59% 10/17 [00:51<00:36,  5.24s/it]WARNING: NMS time limit 0.780s exceeded\n",
            "               Class     Images     Labels          P          R     mAP@.5 mAP@.5:.95:  65% 11/17 [00:56<00:31,  5.19s/it]WARNING: NMS time limit 0.780s exceeded\n",
            "               Class     Images     Labels          P          R     mAP@.5 mAP@.5:.95:  71% 12/17 [01:01<00:25,  5.15s/it]WARNING: NMS time limit 0.780s exceeded\n",
            "               Class     Images     Labels          P          R     mAP@.5 mAP@.5:.95:  76% 13/17 [01:06<00:20,  5.12s/it]WARNING: NMS time limit 0.780s exceeded\n",
            "               Class     Images     Labels          P          R     mAP@.5 mAP@.5:.95:  82% 14/17 [01:11<00:15,  5.09s/it]WARNING: NMS time limit 0.780s exceeded\n",
            "               Class     Images     Labels          P          R     mAP@.5 mAP@.5:.95:  88% 15/17 [01:16<00:10,  5.08s/it]WARNING: NMS time limit 0.780s exceeded\n",
            "               Class     Images     Labels          P          R     mAP@.5 mAP@.5:.95: 100% 17/17 [01:23<00:00,  4.92s/it]\n",
            "                 all        261       1215      0.062      0.237      0.133     0.0531\n",
            "\n",
            "     Epoch   gpu_mem       box       obj       cls    labels  img_size\n",
            "       1/9        0G   0.07235   0.04549   0.01239        43       640: 100% 41/41 [07:28<00:00, 10.94s/it]\n",
            "               Class     Images     Labels          P          R     mAP@.5 mAP@.5:.95: 100% 17/17 [01:13<00:00,  4.34s/it]\n",
            "                 all        261       1215      0.441      0.164      0.215      0.123\n",
            "\n",
            "     Epoch   gpu_mem       box       obj       cls    labels  img_size\n",
            "       2/9        0G   0.07408   0.03736  0.007279        41       640: 100% 41/41 [07:29<00:00, 10.96s/it]\n",
            "               Class     Images     Labels          P          R     mAP@.5 mAP@.5:.95: 100% 17/17 [01:11<00:00,  4.21s/it]\n",
            "                 all        261       1215      0.206      0.228      0.173     0.0574\n",
            "\n",
            "     Epoch   gpu_mem       box       obj       cls    labels  img_size\n",
            "       3/9        0G   0.07283   0.03387   0.00556        38       640: 100% 41/41 [07:28<00:00, 10.93s/it]\n",
            "               Class     Images     Labels          P          R     mAP@.5 mAP@.5:.95: 100% 17/17 [01:10<00:00,  4.18s/it]\n",
            "                 all        261       1215      0.252      0.247       0.25     0.0674\n",
            "\n",
            "     Epoch   gpu_mem       box       obj       cls    labels  img_size\n",
            "       4/9        0G   0.06983   0.03207   0.00489        45       640: 100% 41/41 [07:23<00:00, 10.82s/it]\n",
            "               Class     Images     Labels          P          R     mAP@.5 mAP@.5:.95: 100% 17/17 [01:11<00:00,  4.19s/it]\n",
            "                 all        261       1215      0.256      0.426      0.287      0.107\n",
            "\n",
            "     Epoch   gpu_mem       box       obj       cls    labels  img_size\n",
            "       5/9        0G    0.0625   0.03071  0.003961        39       640: 100% 41/41 [07:28<00:00, 10.94s/it]\n",
            "               Class     Images     Labels          P          R     mAP@.5 mAP@.5:.95: 100% 17/17 [01:11<00:00,  4.19s/it]\n",
            "                 all        261       1215      0.348      0.385      0.305      0.139\n",
            "\n",
            "     Epoch   gpu_mem       box       obj       cls    labels  img_size\n",
            "       6/9        0G   0.05544   0.03012  0.003208        32       640: 100% 41/41 [07:22<00:00, 10.80s/it]\n",
            "               Class     Images     Labels          P          R     mAP@.5 mAP@.5:.95: 100% 17/17 [01:11<00:00,  4.21s/it]\n",
            "                 all        261       1215      0.523      0.361      0.336      0.156\n",
            "\n",
            "     Epoch   gpu_mem       box       obj       cls    labels  img_size\n",
            "       7/9        0G   0.04944   0.02922  0.003013        26       640: 100% 41/41 [07:33<00:00, 11.07s/it]\n",
            "               Class     Images     Labels          P          R     mAP@.5 mAP@.5:.95: 100% 17/17 [01:11<00:00,  4.20s/it]\n",
            "                 all        261       1215      0.702      0.354      0.424      0.162\n",
            "\n",
            "     Epoch   gpu_mem       box       obj       cls    labels  img_size\n",
            "       8/9        0G    0.0476   0.03025  0.002858        35       640: 100% 41/41 [07:30<00:00, 11.00s/it]\n",
            "               Class     Images     Labels          P          R     mAP@.5 mAP@.5:.95: 100% 17/17 [01:10<00:00,  4.16s/it]\n",
            "                 all        261       1215      0.801       0.36      0.466      0.206\n",
            "\n",
            "     Epoch   gpu_mem       box       obj       cls    labels  img_size\n",
            "       9/9        0G   0.04447   0.02778  0.002631        29       640: 100% 41/41 [07:31<00:00, 11.01s/it]\n",
            "               Class     Images     Labels          P          R     mAP@.5 mAP@.5:.95: 100% 17/17 [01:10<00:00,  4.17s/it]\n",
            "                 all        261       1215      0.826      0.371      0.476      0.205\n",
            "\n",
            "10 epochs completed in 1.449 hours.\n",
            "Optimizer stripped from runs/train/exp/weights/last.pt, 14.4MB\n",
            "Results saved to \u001b[1mruns/train/exp\u001b[0m\n"
          ]
        }
      ]
    },
    {
      "cell_type": "code",
      "source": [
        "%load_ext tensorboard\n",
        "%tensorboard --logdir runs/train  # I have used tensorboard to check the accuracy and measures but in the new update of Yolov5 it is not supported."
      ],
      "metadata": {
        "colab": {
          "base_uri": "https://localhost:8080/",
          "height": 821
        },
        "id": "9yiYBNCxkIrj",
        "outputId": "5bafc8ca-9932-4f68-e02c-c654fbf49f91"
      },
      "execution_count": 9,
      "outputs": [
        {
          "output_type": "display_data",
          "data": {
            "text/plain": [
              "<IPython.core.display.Javascript object>"
            ],
            "application/javascript": [
              "\n",
              "        (async () => {\n",
              "            const url = new URL(await google.colab.kernel.proxyPort(6006, {'cache': true}));\n",
              "            url.searchParams.set('tensorboardColab', 'true');\n",
              "            const iframe = document.createElement('iframe');\n",
              "            iframe.src = url;\n",
              "            iframe.setAttribute('width', '100%');\n",
              "            iframe.setAttribute('height', '800');\n",
              "            iframe.setAttribute('frameborder', 0);\n",
              "            document.body.appendChild(iframe);\n",
              "        })();\n",
              "    "
            ]
          },
          "metadata": {}
        }
      ]
    },
    {
      "cell_type": "code",
      "source": [
        "# Validating the data"
      ],
      "metadata": {
        "id": "QPzDcmjDr8yB"
      },
      "execution_count": 23,
      "outputs": []
    },
    {
      "cell_type": "code",
      "source": [
        "!python val.py --weights /content/yolov5/runs/train/exp/weights/last.pt --data coco128.yaml --img 160"
      ],
      "metadata": {
        "colab": {
          "base_uri": "https://localhost:8080/"
        },
        "id": "iZwP1N99kbIZ",
        "outputId": "7213cc2f-6908-4107-eb38-42ac5f59bbfe"
      },
      "execution_count": 12,
      "outputs": [
        {
          "output_type": "stream",
          "name": "stdout",
          "text": [
            "\u001b[34m\u001b[1mval: \u001b[0mdata=/content/yolov5/data/coco128.yaml, weights=['/content/yolov5/runs/train/exp/weights/last.pt'], batch_size=32, imgsz=160, conf_thres=0.001, iou_thres=0.6, task=val, device=, workers=8, single_cls=False, augment=False, verbose=False, save_txt=False, save_hybrid=False, save_conf=False, save_json=False, project=runs/val, name=exp, exist_ok=False, half=False, dnn=False\n",
            "YOLOv5 🚀 v6.1-329-g52d3a9a Python-3.7.13 torch-1.12.0+cu113 CPU\n",
            "\n",
            "Fusing layers... \n",
            "Model summary: 213 layers, 7015519 parameters, 0 gradients, 15.8 GFLOPs\n",
            "\u001b[34m\u001b[1mval: \u001b[0mScanning '/content/drive/MyDrive/Dataset/val/labels.cache' images and labels... 261 found, 0 missing, 0 empty, 0 corrupt: 100% 261/261 [00:00<?, ?it/s]\n",
            "               Class     Images     Labels          P          R     mAP@.5 mAP@.5:.95: 100% 9/9 [00:13<00:00,  1.45s/it]\n",
            "                 all        261       1215      0.999      0.122      0.168     0.0543\n",
            "              person        261        418          1          0          0          0\n",
            "             vehicle        261        797      0.998      0.243      0.336      0.109\n",
            "Speed: 0.2ms pre-process, 40.8ms inference, 0.5ms NMS per image at shape (32, 3, 160, 160)\n",
            "Results saved to \u001b[1mruns/val/exp2\u001b[0m\n"
          ]
        }
      ]
    },
    {
      "cell_type": "code",
      "source": [
        "# Detecting a random images by using the weigt file from our training model"
      ],
      "metadata": {
        "id": "QpLnu4I4sAcB"
      },
      "execution_count": 24,
      "outputs": []
    },
    {
      "cell_type": "code",
      "source": [
        "!python detect.py --source /content/ima.jpg --weights /content/yolov5/runs/train/exp/weights/last.pt --img 640 --save-txt --save-conf"
      ],
      "metadata": {
        "colab": {
          "base_uri": "https://localhost:8080/"
        },
        "id": "snlOr5SjoisA",
        "outputId": "c384fd16-a9ea-4f12-ba9a-844a510038a6"
      },
      "execution_count": 18,
      "outputs": [
        {
          "output_type": "stream",
          "name": "stdout",
          "text": [
            "\u001b[34m\u001b[1mdetect: \u001b[0mweights=['/content/yolov5/runs/train/exp/weights/last.pt'], source=/content/ima.jpg, data=data/coco128.yaml, imgsz=[640, 640], conf_thres=0.25, iou_thres=0.45, max_det=1000, device=, view_img=False, save_txt=True, save_conf=True, save_crop=False, nosave=False, classes=None, agnostic_nms=False, augment=False, visualize=False, update=False, project=runs/detect, name=exp, exist_ok=False, line_thickness=3, hide_labels=False, hide_conf=False, half=False, dnn=False\n",
            "YOLOv5 🚀 v6.1-329-g52d3a9a Python-3.7.13 torch-1.12.0+cu113 CPU\n",
            "\n",
            "Fusing layers... \n",
            "Model summary: 213 layers, 7015519 parameters, 0 gradients, 15.8 GFLOPs\n",
            "image 1/1 /content/ima.jpg: 448x640 2 persons, 1 vehicle, Done. (0.310s)\n",
            "Speed: 3.0ms pre-process, 309.6ms inference, 1.2ms NMS per image at shape (1, 3, 640, 640)\n",
            "Results saved to \u001b[1mruns/detect/exp3\u001b[0m\n",
            "1 labels saved to runs/detect/exp3/labels\n"
          ]
        }
      ]
    }
  ]
}